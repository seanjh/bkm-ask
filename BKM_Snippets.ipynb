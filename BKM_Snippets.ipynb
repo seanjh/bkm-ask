{
 "cells": [
  {
   "cell_type": "code",
   "execution_count": 1,
   "metadata": {
    "collapsed": false
   },
   "outputs": [],
   "source": [
    "import json\n",
    "from itertools import groupby\n",
    "from datetime import date, datetime\n",
    "\n",
    "import matplotlib.pyplot as plt\n",
    "import matplotlib.dates as mdates\n",
    "\n",
    "import snippets as snip\n",
    "\n",
    "%matplotlib inline"
   ]
  },
  {
   "cell_type": "code",
   "execution_count": 2,
   "metadata": {
    "collapsed": false
   },
   "outputs": [],
   "source": [
    "data = snip.load_snippets()"
   ]
  },
  {
   "cell_type": "code",
   "execution_count": 3,
   "metadata": {
    "collapsed": false
   },
   "outputs": [
    {
     "name": "stdout",
     "output_type": "stream",
     "text": [
      ".created_at\n",
      ".id\n",
      ".visitor_first_name\n",
      ".chat_messages\n",
      "..13924\n",
      "...ibeacon_id\n",
      "...id\n",
      "...image_file_cdn_url\n",
      "...message\n",
      "...edited_text\n",
      "...chat_session_id\n",
      "...created_at\n",
      "...starred\n",
      "...host_user_id\n",
      "...updated_at\n",
      "..13932\n",
      "...ibeacon_id\n",
      "...id\n",
      "...image_file_cdn_url\n",
      "...message\n",
      "...edited_text\n",
      "...chat_session_id\n",
      "...created_at\n",
      "...starred\n",
      "...host_user_id\n",
      "...updated_at\n",
      "..13923\n",
      "...ibeacon_id\n",
      "...id\n",
      "...image_file_cdn_url\n",
      "...message\n",
      "...edited_text\n",
      "...chat_session_id\n",
      "...created_at\n",
      "...starred\n",
      "...host_user_id\n",
      "...updated_at\n",
      "..13929\n",
      "...ibeacon_id\n",
      "...id\n",
      "...image_file_cdn_url\n",
      "...message\n",
      "...edited_text\n",
      "...chat_session_id\n",
      "...created_at\n",
      "...starred\n",
      "...host_user_id\n",
      "...updated_at\n",
      ".updated_at\n",
      ".forwarded_to\n",
      ".retired\n",
      ".tags\n",
      "..89\n",
      "...created_at\n",
      "...id\n",
      "...chat_snippet_id\n",
      "...tag_name\n",
      "...updated_at\n",
      "..87\n",
      "...created_at\n",
      "...id\n",
      "...chat_snippet_id\n",
      "...tag_name\n",
      "...updated_at\n",
      "..86\n",
      "...created_at\n",
      "...id\n",
      "...chat_snippet_id\n",
      "...tag_name\n",
      "...updated_at\n",
      ".ocobjects\n",
      "..accession_number\n",
      "..images\n",
      "...rank-1\n",
      "....filename\n",
      "....load_date\n",
      "....is_color\n",
      "...rank-2\n",
      "....filename\n",
      "....load_date\n",
      "....is_color\n",
      "..dynasty\n",
      "..rights_statement\n",
      "..completeness\n",
      "..section\n",
      "..medium\n",
      "..exhibitions\n",
      "..object_date_begin\n",
      "..description\n",
      "..museum_location\n",
      "..credit_line\n",
      "..dimensions\n",
      "..museum_location_id\n",
      "..primary_image\n",
      "..markings\n",
      "..signed\n",
      "..collections\n",
      "...id\n",
      "...name\n",
      "..portfolio\n",
      "..object_date_end\n",
      "..artists\n",
      "...nationality\n",
      "...id\n",
      "...role\n",
      "...name\n",
      "..period\n",
      "..labels\n",
      "..id\n",
      "..approvals_mask\n",
      "..copyright_restricted\n",
      "..public_access\n",
      "..object_date\n",
      "..classification\n",
      "..copyright\n",
      "..visible\n",
      "..title\n",
      "..state\n",
      "..date_added\n",
      "..edition\n",
      "..accession_date\n",
      "..inscribed\n",
      ".approved\n",
      ".visitor_email\n",
      ".visitor_id\n",
      ".locations\n",
      "..museum_location_id\n"
     ]
    }
   ],
   "source": [
    "sample = data[0]\n",
    "snip.show_hierarchy(sample)"
   ]
  },
  {
   "cell_type": "code",
   "execution_count": 4,
   "metadata": {
    "collapsed": false,
    "scrolled": true
   },
   "outputs": [
    {
     "name": "stdout",
     "output_type": "stream",
     "text": [
      "Data points: 1594\n"
     ]
    }
   ],
   "source": [
    "print('Data points: %d' % len(data))"
   ]
  },
  {
   "cell_type": "code",
   "execution_count": 5,
   "metadata": {
    "collapsed": false
   },
   "outputs": [],
   "source": [
    "snippet_count = snip.groupby_created(data)\n",
    "snippet_created_dates = sorted(snippet_count.keys())"
   ]
  },
  {
   "cell_type": "code",
   "execution_count": 8,
   "metadata": {
    "collapsed": true
   },
   "outputs": [],
   "source": [
    "def plot_reviews(dates, created):\n",
    "    fig, axes = plt.subplots(1, figsize=(16, 10))\n",
    "\n",
    "    # Snippets line plot\n",
    "    axes.bar(dates, created)\n",
    "\n",
    "    # Labels and axes formatting\n",
    "    axes.set_title('Snippets by Created Date')\n",
    "    axes.set_xlabel('Created Date')\n",
    "    axes.set_ylabel('Snippets')\n",
    "    fig.autofmt_xdate()\n",
    "    axes.fmt_xdata = mdates.DateFormatter('%Y-%m-%d')\n",
    "\n",
    "    plt.show()"
   ]
  },
  {
   "cell_type": "code",
   "execution_count": 9,
   "metadata": {
    "collapsed": false
   },
   "outputs": [
    {
     "data": {
      "image/png": "[encoded data removed]",
      "text/plain": [
       "<matplotlib.figure.Figure at 0x10b92a278>"
      ]
     },
     "metadata": {},
     "output_type": "display_data"
    }
   ],
   "source": [
    "plot_reviews(snippet_created_dates, [snippet_count[d] for d in snippet_created_dates])"
   ]
  },
  {
   "cell_type": "code",
   "execution_count": null,
   "metadata": {
    "collapsed": true
   },
   "outputs": [],
   "source": []
  }
 ],
 "metadata": {
  "kernelspec": {
   "display_name": "Python 3",
   "language": "python",
   "name": "python3"
  },
  "language_info": {
   "codemirror_mode": {
    "name": "ipython",
    "version": 3
   },
   "file_extension": ".py",
   "mimetype": "text/x-python",
   "name": "python",
   "nbconvert_exporter": "python",
   "pygments_lexer": "ipython3",
   "version": "3.4.1"
  }
 },
 "nbformat": 4,
 "nbformat_minor": 0
}
